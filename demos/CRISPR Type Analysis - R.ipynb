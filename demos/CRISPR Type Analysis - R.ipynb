{
 "cells": [
  {
   "cell_type": "markdown",
   "metadata": {},
   "source": [
    "# phageParser - Analysis of CRISPR Type for Locus Sizes (R)\n",
    "\n",
    "Ahmed Hasan (ahmed.hasan@mail.utoronto.ca)\n",
    "\n",
    "Based off of a notebook by C.K. Yildirim (cemyildirim@fastmail.com)\n",
    "\n",
    "The latest version of this [Jupyter Notebook](https://jupyter.org) demo is available at http://github.com/phageParser/phageParser\n",
    "\n",
    "## Introduction\n",
    "This demo uses the REST API of phageParser running locally to plot the distribution of spacer lengths. In this case, the API is consumed using the `httr` library and the json responses are parsed with `jsonlite` and `dplyr` for gathering basepair length information of spacers."
   ]
  },
  {
   "cell_type": "code",
   "execution_count": 1,
   "metadata": {
    "collapsed": false
   },
   "outputs": [],
   "source": [
    "library(httr)\n",
    "library(jsonlite)\n",
    "library(tidyr)\n",
    "library(ggplot2)\n",
    "library(dplyr, warn.conflicts = FALSE)\n",
    "library(magrittr, warn.conflicts = FALSE)\n",
    "options(stringsAsFactors = FALSE)"
   ]
  },
  {
   "cell_type": "code",
   "execution_count": 2,
   "metadata": {
    "collapsed": false
   },
   "outputs": [],
   "source": [
    "apiurl <- 'https://phageparser.herokuapp.com'\n",
    "\n",
    "# get urls\n",
    "url_raw <- GET(url = apiurl)\n",
    "url_json <- rawToChar(url_raw$content) %>%\n",
    "    fromJSON(flatten = TRUE)\n",
    "\n",
    "# combine results into single df\n",
    "url_df <- do.call(what = 'rbind', \n",
    "                  args = lapply(url_json, as.data.frame))\n",
    "\n",
    "# get urls for tables of interest\n",
    "organism.url <- url_df['organisms',]\n",
    "casprotein.url <- url_df['casproteins',]"
   ]
  },
  {
   "cell_type": "code",
   "execution_count": 3,
   "metadata": {
    "collapsed": true
   },
   "outputs": [],
   "source": [
    "gettable <- function(table_url) {\n",
    "    pages <- list() # initialize pages\n",
    "    raw <- GET(url = table_url)\n",
    "    out <- rawToChar(raw$content) %>%\n",
    "        fromJSON()\n",
    "    return(out)\n",
    "}\n",
    "\n",
    "organism_init <- gettable(organism.url)\n",
    "casprotein_init <- gettable(casprotein.url)"
   ]
  },
  {
   "cell_type": "code",
   "execution_count": 4,
   "metadata": {
    "collapsed": false
   },
   "outputs": [
    {
     "name": "stderr",
     "output_type": "stream",
     "text": [
      "Retrieved page 1 of 7\n",
      "Retrieved page 2 of 7\n",
      "Retrieved page 3 of 7\n",
      "Retrieved page 4 of 7\n",
      "Retrieved page 5 of 7\n",
      "Retrieved page 6 of 7\n",
      "Retrieved page 7 of 7\n"
     ]
    }
   ],
   "source": [
    "# fetching all pages of org table\n",
    "\n",
    "organism_pages <- list()\n",
    "\n",
    "for (i in 1:organism_init[[2]]$total_pages) {\n",
    "    data <- GET(url = paste0(organism.url, '?page=', i,\n",
    "                            '&include[]=cas_proteins&include[]=loci.spacers'))\n",
    "    data <- rawToChar(data$content) %>%\n",
    "        fromJSON(flatten = TRUE)\n",
    "    message('Retrieved page ', i, ' of ', organism_init[[2]]$total_pages)\n",
    "    organism_pages[[i]] <- data[[1]] # data[[2]] is metadata for page\n",
    "}\n",
    "\n",
    "organism_df <- do.call(what = 'rbind',\n",
    "                      args = lapply(organism_pages, as.data.frame))"
   ]
  },
  {
   "cell_type": "code",
   "execution_count": 5,
   "metadata": {
    "collapsed": false
   },
   "outputs": [
    {
     "name": "stderr",
     "output_type": "stream",
     "text": [
      "Retrieved page 1 of 1\n"
     ]
    }
   ],
   "source": [
    "# fetching all pages of cas protein table\n",
    "\n",
    "casprotein_pages <- list()\n",
    "\n",
    "for (i in 1:casprotein_init[[2]]$total_pages) {\n",
    "    data <- GET(url = paste0(casprotein.url, '?page=', i))\n",
    "    data <- rawToChar(data$content) %>%\n",
    "        fromJSON(flatten = TRUE)\n",
    "    message('Retrieved page ', i, ' of ', casprotein_init[[2]]$total_pages)\n",
    "    casprotein_pages[[i]] <- data[[1]] # data[[2]] is metadata for page\n",
    "}\n",
    "\n",
    "casprotein_df <- do.call(what = 'rbind',\n",
    "                      args = lapply(casprotein_pages, as.data.frame))"
   ]
  },
  {
   "cell_type": "code",
   "execution_count": 6,
   "metadata": {
    "collapsed": false
   },
   "outputs": [
    {
     "data": {
      "text/html": [
       "<table>\n",
       "<thead><tr><th scope=col>id</th><th scope=col>profileID</th><th scope=col>function</th><th scope=col>gene</th><th scope=col>group</th><th scope=col>type_specificity</th></tr></thead>\n",
       "<tbody>\n",
       "\t<tr><td>1                         </td><td>cd09634                   </td><td>acquisition_1             </td><td>cas1                      </td><td>cas1                      </td><td>CAS-I,CAS-II,CAS-III,CAS-V</td></tr>\n",
       "\t<tr><td>2                         </td><td>cd09636                   </td><td>acquisition_1             </td><td>cas1                      </td><td>cas1                      </td><td>CAS-I,CAS-II,CAS-III      </td></tr>\n",
       "\t<tr><td>3                         </td><td>cd09718                   </td><td>acquisition_1             </td><td>cas1                      </td><td>cas1                      </td><td>CAS-I-F                   </td></tr>\n",
       "\t<tr><td>4                         </td><td>cd09719                   </td><td>acquisition_1             </td><td>cas1                      </td><td>cas1                      </td><td>CAS-I-E                   </td></tr>\n",
       "\t<tr><td>5                         </td><td>cd09720                   </td><td>acquisition_1             </td><td>cas1                      </td><td>cas1                      </td><td>CAS-II-A,CAS-II-B,CAS-II-C</td></tr>\n",
       "\t<tr><td>6                         </td><td>cd09721                   </td><td>acquisition_1             </td><td>cas1                      </td><td>cas1                      </td><td>CAS-I-C                   </td></tr>\n",
       "</tbody>\n",
       "</table>\n"
      ],
      "text/latex": [
       "\\begin{tabular}{r|llllll}\n",
       " id & profileID & function & gene & group & type\\_specificity\\\\\n",
       "\\hline\n",
       "\t 1                          & cd09634                    & acquisition\\_1            & cas1                       & cas1                       & CAS-I,CAS-II,CAS-III,CAS-V\\\\\n",
       "\t 2                          & cd09636                    & acquisition\\_1            & cas1                       & cas1                       & CAS-I,CAS-II,CAS-III      \\\\\n",
       "\t 3                          & cd09718                    & acquisition\\_1            & cas1                       & cas1                       & CAS-I-F                   \\\\\n",
       "\t 4                          & cd09719                    & acquisition\\_1            & cas1                       & cas1                       & CAS-I-E                   \\\\\n",
       "\t 5                          & cd09720                    & acquisition\\_1            & cas1                       & cas1                       & CAS-II-A,CAS-II-B,CAS-II-C\\\\\n",
       "\t 6                          & cd09721                    & acquisition\\_1            & cas1                       & cas1                       & CAS-I-C                   \\\\\n",
       "\\end{tabular}\n"
      ],
      "text/markdown": [
       "\n",
       "id | profileID | function | gene | group | type_specificity | \n",
       "|---|---|---|---|---|---|\n",
       "| 1                          | cd09634                    | acquisition_1              | cas1                       | cas1                       | CAS-I,CAS-II,CAS-III,CAS-V | \n",
       "| 2                          | cd09636                    | acquisition_1              | cas1                       | cas1                       | CAS-I,CAS-II,CAS-III       | \n",
       "| 3                          | cd09718                    | acquisition_1              | cas1                       | cas1                       | CAS-I-F                    | \n",
       "| 4                          | cd09719                    | acquisition_1              | cas1                       | cas1                       | CAS-I-E                    | \n",
       "| 5                          | cd09720                    | acquisition_1              | cas1                       | cas1                       | CAS-II-A,CAS-II-B,CAS-II-C | \n",
       "| 6                          | cd09721                    | acquisition_1              | cas1                       | cas1                       | CAS-I-C                    | \n",
       "\n",
       "\n"
      ],
      "text/plain": [
       "  id profileID function      gene group type_specificity          \n",
       "1 1  cd09634   acquisition_1 cas1 cas1  CAS-I,CAS-II,CAS-III,CAS-V\n",
       "2 2  cd09636   acquisition_1 cas1 cas1  CAS-I,CAS-II,CAS-III      \n",
       "3 3  cd09718   acquisition_1 cas1 cas1  CAS-I-F                   \n",
       "4 4  cd09719   acquisition_1 cas1 cas1  CAS-I-E                   \n",
       "5 5  cd09720   acquisition_1 cas1 cas1  CAS-II-A,CAS-II-B,CAS-II-C\n",
       "6 6  cd09721   acquisition_1 cas1 cas1  CAS-I-C                   "
      ]
     },
     "metadata": {},
     "output_type": "display_data"
    }
   ],
   "source": [
    "head(casprotein_df)"
   ]
  },
  {
   "cell_type": "code",
   "execution_count": 7,
   "metadata": {
    "collapsed": true
   },
   "outputs": [],
   "source": [
    "cas3_proteins <- filter(casprotein_df, gene == 'cas3')\n",
    "cas9_proteins <- filter(casprotein_df, gene == 'cas9')\n",
    "cas10_proteins <- filter(casprotein_df, gene == 'cas10')"
   ]
  },
  {
   "cell_type": "code",
   "execution_count": 8,
   "metadata": {
    "collapsed": false
   },
   "outputs": [],
   "source": [
    "organism_types <- organism_df\n",
    "\n",
    "checkproteins <- function(proteins, reference){\n",
    "    # helper function for check_type() - checks type membership\n",
    "  checklist <- lapply(proteins, function(i) i %in% reference)\n",
    "  return(TRUE %in% checklist)\n",
    "}\n",
    "\n",
    "check_type <- function(cas_proteins) {\n",
    "    # uses checkproteins to assign crispr types\n",
    "  cas3 <- cas3_proteins$id\n",
    "  cas9 <- cas9_proteins$id\n",
    "  cas10 <- cas10_proteins$id\n",
    "  \n",
    "  cas_proteins <- cas_proteins[[1]] # packed in list\n",
    "  ret_type <- list(c())\n",
    "  if (checkproteins(cas_proteins, cas3)) {\n",
    "    ret_type[[1]] %<>% c('Type I')\n",
    "  }\n",
    "  if (checkproteins(cas_proteins, cas9)) {\n",
    "    ret_type[[1]] %<>% c('Type II')\n",
    "  }\n",
    "  if (checkproteins(cas_proteins, cas10)) {\n",
    "    ret_type[[1]] %<>% c('Type III')\n",
    "  }\n",
    "  return(ret_type)\n",
    "}\n",
    "                      \n",
    "# run above functions on all organisms to sort them into CRISPR types\n",
    "\n",
    "organism_types %<>%\n",
    "  group_by(id) %>%\n",
    "  mutate(type = check_type(cas_proteins)) %>%\n",
    "  ungroup()"
   ]
  },
  {
   "cell_type": "code",
   "execution_count": 9,
   "metadata": {
    "collapsed": true
   },
   "outputs": [],
   "source": [
    "# check for single spacer organisms in our new df\n",
    "# need to unpack the loci column in organism_types\n",
    "\n",
    "spacer_check <- function(df) {\n",
    "  df <- df[[1]] %>% # unpack data frame\n",
    "    as.data.frame()\n",
    "  spacers <- df$spacers[[1]] # unpack spacers df\n",
    "  if (is.null(spacers)) { # no loci - this is the case for a few orgs\n",
    "    out <- NA\n",
    "  } else if (nrow(spacers) > 0) {\n",
    "      spacer_count <- dim(spacers)[1]\n",
    "      if (spacer_count == 1) {\n",
    "        out <- 'single'\n",
    "      } else if (spacer_count > 1) {\n",
    "        out <- 'multi'\n",
    "      } else {\n",
    "        out <- NA\n",
    "      } \n",
    "    }\n",
    "  return(out)\n",
    "}\n",
    "\n",
    "# grouped mutate is being unfriendly - try the old fashioned way\n",
    "organism_types$spacer_count <- ''\n",
    "for (i in 1:dim(organism_types)[1]) {\n",
    "  organism_types$spacer_count[i] <- spacer_check(organism_types$loci[i])\n",
    "}"
   ]
  },
  {
   "cell_type": "code",
   "execution_count": 10,
   "metadata": {
    "collapsed": false
   },
   "outputs": [
    {
     "data": {
      "text/html": [
       "'Active CRISPR system percentage for organisms with single spacer is 97.910447761194%'"
      ],
      "text/latex": [
       "'Active CRISPR system percentage for organisms with single spacer is 97.910447761194\\%'"
      ],
      "text/markdown": [
       "'Active CRISPR system percentage for organisms with single spacer is 97.910447761194%'"
      ],
      "text/plain": [
       "[1] \"Active CRISPR system percentage for organisms with single spacer is 97.910447761194%\""
      ]
     },
     "metadata": {},
     "output_type": "display_data"
    },
    {
     "data": {
      "text/html": [
       "'Active CRISPR system percentage for organisms with multiple spacers is 96.9973890339426%'"
      ],
      "text/latex": [
       "'Active CRISPR system percentage for organisms with multiple spacers is 96.9973890339426\\%'"
      ],
      "text/markdown": [
       "'Active CRISPR system percentage for organisms with multiple spacers is 96.9973890339426%'"
      ],
      "text/plain": [
       "[1] \"Active CRISPR system percentage for organisms with multiple spacers is 96.9973890339426%\""
      ]
     },
     "metadata": {},
     "output_type": "display_data"
    }
   ],
   "source": [
    "# calculate how many single + multi spacer orgs were assigned CRISPR types\n",
    "\n",
    "check_active <- function(df){\n",
    "  df <- unlist(df)\n",
    "  out <- ifelse(is.null(df), 'False', 'True')\n",
    "  return(out)\n",
    "}\n",
    "\n",
    "iscrispr_single_spacer <- organism_types %>% \n",
    "  filter(spacer_count == 'single') %>% \n",
    "  group_by(id) %>% \n",
    "  mutate(active = check_active(type)) %>% \n",
    "  ungroup() %>% \n",
    "  group_by(active) %>% \n",
    "  summarise(count = n())\n",
    "\n",
    "paste0('Active CRISPR system percentage for organisms with single spacer is ', \n",
    "      iscrispr_single_spacer[2,2] * 100 / sum(iscrispr_single_spacer$count), '%')\n",
    "  \n",
    "iscrispr_multi_spacer <- organism_types %>% \n",
    "  filter(spacer_count == 'multi') %>% \n",
    "  group_by(id) %>% \n",
    "  mutate(active = check_active(type)) %>% \n",
    "  ungroup() %>% \n",
    "  group_by(active) %>% \n",
    "  summarise(count = n())\n",
    "\n",
    "paste0('Active CRISPR system percentage for organisms with multiple spacers is ', \n",
    "       iscrispr_multi_spacer[2,2] * 100 / sum(iscrispr_multi_spacer$count), '%')"
   ]
  },
  {
   "cell_type": "code",
   "execution_count": 11,
   "metadata": {
    "collapsed": true
   },
   "outputs": [],
   "source": [
    "# histogram of spacer length across all spacers in dataset\n",
    "\n",
    "all_loci <- organism_types$loci\n",
    "\n",
    "get_spacer_lengths <- function(loci) {\n",
    "    # function needed to pull out and unlist spacers from indiv records\n",
    "  if (is.null(unlist(loci))) {\n",
    "    lengths <- NA\n",
    "  } else {\n",
    "    spacerdf <- loci %>% \n",
    "      as.data.frame() %>% \n",
    "      select(spacers)\n",
    "    lengths <- c()\n",
    "    for (i in 1:nrow(spacerdf)) {\n",
    "      spacers <- spacerdf[i,] %>% as.data.frame()\n",
    "      l <- spacers$length\n",
    "      lengths %<>% c(l)\n",
    "    }\n",
    "  }\n",
    "  return(lengths)\n",
    "}\n",
    "\n",
    "# this is a clumsy method... grows a vector of lengths\n",
    "lengths <- c()\n",
    "for (i in 1:length(all_loci)) {\n",
    "  lengths <- c(lengths, get_spacer_lengths(all_loci[i]))\n",
    "}\n",
    "\n",
    "lengthsdf <- as.data.frame(lengths)"
   ]
  },
  {
   "cell_type": "code",
   "execution_count": 12,
   "metadata": {
    "collapsed": false
   },
   "outputs": [
    {
     "data": {
      "text/html": [
       "<table>\n",
       "<thead><tr><th scope=col>lengths</th></tr></thead>\n",
       "<tbody>\n",
       "\t<tr><td>30</td></tr>\n",
       "\t<tr><td>30</td></tr>\n",
       "\t<tr><td>30</td></tr>\n",
       "\t<tr><td>30</td></tr>\n",
       "\t<tr><td>30</td></tr>\n",
       "\t<tr><td>30</td></tr>\n",
       "</tbody>\n",
       "</table>\n"
      ],
      "text/latex": [
       "\\begin{tabular}{r|l}\n",
       " lengths\\\\\n",
       "\\hline\n",
       "\t 30\\\\\n",
       "\t 30\\\\\n",
       "\t 30\\\\\n",
       "\t 30\\\\\n",
       "\t 30\\\\\n",
       "\t 30\\\\\n",
       "\\end{tabular}\n"
      ],
      "text/markdown": [
       "\n",
       "lengths | \n",
       "|---|---|---|---|---|---|\n",
       "| 30 | \n",
       "| 30 | \n",
       "| 30 | \n",
       "| 30 | \n",
       "| 30 | \n",
       "| 30 | \n",
       "\n",
       "\n"
      ],
      "text/plain": [
       "  lengths\n",
       "1 30     \n",
       "2 30     \n",
       "3 30     \n",
       "4 30     \n",
       "5 30     \n",
       "6 30     "
      ]
     },
     "metadata": {},
     "output_type": "display_data"
    }
   ],
   "source": [
    "head(lengthsdf)"
   ]
  },
  {
   "cell_type": "code",
   "execution_count": 13,
   "metadata": {
    "collapsed": false,
    "scrolled": false
   },
   "outputs": [
    {
     "data": {},
     "metadata": {},
     "output_type": "display_data"
    },
    {
     "data": {
      "image/png": "[encoded data removed]",
      "text/plain": [
       "plot without title"
      ]
     },
     "metadata": {},
     "output_type": "display_data"
    }
   ],
   "source": [
    "spacer_length_dist <- ggplot(lengthsdf, aes(x = lengths, y = ..density..)) + \n",
    "    geom_histogram(col = 'red', fill = 'pink', binwidth = 4, na.rm = TRUE) +\n",
    "    theme_bw() +\n",
    "    ggtitle('Histogram of spacer lengths') +\n",
    "    xlab('length (bp)') +\n",
    "    ylab('proportion') +\n",
    "    coord_cartesian(y = c(0, 0.15))\n",
    "\n",
    "spacer_length_dist"
   ]
  },
  {
   "cell_type": "code",
   "execution_count": 14,
   "metadata": {
    "collapsed": true
   },
   "outputs": [],
   "source": [
    "# histogram of spacer counts across all organisms in dataset\n",
    "\n",
    "all_loci <- organism_types$loci\n",
    "\n",
    "get_spacer_count <- function(loci) {\n",
    "  if (is.null(unlist(loci))) {\n",
    "    n_spacers <- NA\n",
    "  } else {\n",
    "    spacerdf <- loci %>% \n",
    "      as.data.frame() %>% \n",
    "      select(spacers)\n",
    "    n_spacers <- nrow(spacerdf)\n",
    "  }\n",
    "  return(n_spacers)\n",
    "}\n",
    "\n",
    "# still clumsy\n",
    "s_count <- c()\n",
    "for (i in 1:length(all_loci)) {\n",
    "  s_count <- c(s_count, get_spacer_count(all_loci[i]))\n",
    "}\n",
    "s_countdf <- as.data.frame(s_count)"
   ]
  },
  {
   "cell_type": "code",
   "execution_count": 15,
   "metadata": {
    "collapsed": false
   },
   "outputs": [
    {
     "data": {
      "text/html": [
       "2.60400117681671"
      ],
      "text/latex": [
       "2.60400117681671"
      ],
      "text/markdown": [
       "2.60400117681671"
      ],
      "text/plain": [
       "[1] 2.604001"
      ]
     },
     "metadata": {},
     "output_type": "display_data"
    },
    {
     "data": {},
     "metadata": {},
     "output_type": "display_data"
    },
    {
     "data": {
      "image/png": "[encoded data removed]",
      "text/plain": [
       "plot without title"
      ]
     },
     "metadata": {},
     "output_type": "display_data"
    }
   ],
   "source": [
    "s_count_plot <- ggplot(s_countdf, aes(x = s_count, y = ..density..)) + \n",
    "    geom_histogram(col = 'red', fill = 'pink', binwidth = 1, na.rm = TRUE) +\n",
    "    theme_bw() +\n",
    "    ggtitle('Histogram of spacer counts per organism') +\n",
    "    xlab('number of spacers') +\n",
    "    ylab('proportion') +\n",
    "    coord_cartesian(y = c(0, 0.4))\n",
    "\n",
    "mean(s_countdf$s_count, na.rm = TRUE)\n",
    "s_count_plot"
   ]
  }
 ],
 "metadata": {
  "anaconda-cloud": {},
  "kernelspec": {
   "display_name": "R",
   "language": "R",
   "name": "ir"
  },
  "language_info": {
   "codemirror_mode": "r",
   "file_extension": ".r",
   "mimetype": "text/x-r-source",
   "name": "R",
   "pygments_lexer": "r",
   "version": "3.3.2"
  }
 },
 "nbformat": 4,
 "nbformat_minor": 2
}
