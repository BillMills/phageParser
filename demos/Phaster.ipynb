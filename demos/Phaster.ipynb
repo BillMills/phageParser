{
 "cells": [
  {
   "cell_type": "code",
   "execution_count": 179,
   "metadata": {
    "collapsed": true
   },
   "outputs": [],
   "source": [
    "%matplotlib inline"
   ]
  },
  {
   "cell_type": "code",
   "execution_count": 180,
   "metadata": {
    "collapsed": true
   },
   "outputs": [],
   "source": [
    "#Import packages\n",
    "import requests\n",
    "import json\n",
    "import numpy as np\n",
    "import random\n",
    "import matplotlib.pyplot as plt\n",
    "from matplotlib import mlab\n",
    "import seaborn as sns\n",
    "import pandas as pd\n",
    "from scipy.stats import poisson\n",
    "import os\n",
    "import re\n",
    "sns.set_palette(\"husl\")"
   ]
  },
  {
   "cell_type": "code",
   "execution_count": 181,
   "metadata": {
    "collapsed": false
   },
   "outputs": [],
   "source": [
    "acc = \"NZ_CP0007399\"\n",
    "apiurl = \"http://phaster.ca/phaster_api?acc=NZ_CP007399\" \n",
    "r=requests.get(apiurl)\n",
    "d=r.json()['summary']"
   ]
  },
  {
   "cell_type": "code",
   "execution_count": 182,
   "metadata": {
    "collapsed": false
   },
   "outputs": [],
   "source": [
    "m=re.search(\"REGION\\s*REGION_LENGTH\",d)\n",
    "m2 = re.search(\"---------------------------------*\\n \",d)\n",
    "\n",
    "summary = d[d.index(m2.group(0))+len(m2.group(0)):]\n",
    "header = d[d.index(m.group(0)):d.index(m2.group(0))]\n",
    "\n",
    "summary = summary.split()\n",
    "header = header.split()"
   ]
  },
  {
   "cell_type": "code",
   "execution_count": 183,
   "metadata": {
    "collapsed": false
   },
   "outputs": [
    {
     "name": "stdout",
     "output_type": "stream",
     "text": [
      "intact(100) 924880-942808\n",
      "questionable(85) 943667-967155\n",
      "intact(107) 1484949-1499404\n",
      "intact(100) 3211688-3230714\n",
      "questionable(80) 3958150-4001095\n",
      "intact(150) 4964557-4989828\n"
     ]
    }
   ],
   "source": [
    "for i in range(int(len(summary)/len(header))):\n",
    "    score = summary[i*len(header)+2]\n",
    "    position = summary[i*len(header)+4]\n",
    "    print(score, position)"
   ]
  },
  {
   "cell_type": "code",
   "execution_count": 184,
   "metadata": {
    "collapsed": false
   },
   "outputs": [
    {
     "data": {
      "text/plain": [
       "['REGION',\n",
       " 'REGION_LENGTH',\n",
       " 'COMPLETENESS(score)',\n",
       " 'SPECIFIC_KEYWORD',\n",
       " 'REGION_POSITION',\n",
       " 'TRNA_NUM',\n",
       " 'TOTAL_PROTEIN_NUM',\n",
       " 'PHAGE_HIT_PROTEIN_NUM',\n",
       " 'HYPOTHETICAL_PROTEIN_NUM',\n",
       " 'PHAGE+HYPO_PROTEIN_PERCENTAGE',\n",
       " 'BACTERIAL_PROTEIN_NUM',\n",
       " 'ATT_SITE_SHOWUP',\n",
       " 'PHAGE_SPECIES_NUM',\n",
       " 'MOST_COMMON_PHAGE_NAME(hit_genes_count)',\n",
       " 'FIRST_MOST_COMMON_PHAGE_NUM',\n",
       " 'FIRST_MOST_COMMON_PHAGE_PERCENTAGE',\n",
       " 'GC_PERCENTAGE']"
      ]
     },
     "execution_count": 184,
     "metadata": {},
     "output_type": "execute_result"
    }
   ],
   "source": [
    "header"
   ]
  },
  {
   "cell_type": "code",
   "execution_count": 163,
   "metadata": {
    "collapsed": false
   },
   "outputs": [
    {
     "data": {
      "text/plain": [
       "'4491197-4548442'"
      ]
     },
     "execution_count": 163,
     "metadata": {},
     "output_type": "execute_result"
    }
   ],
   "source": [
    "position"
   ]
  },
  {
   "cell_type": "code",
   "execution_count": null,
   "metadata": {
    "collapsed": true
   },
   "outputs": [],
   "source": []
  }
 ],
 "metadata": {
  "kernelspec": {
   "display_name": "Python [conda env:django]",
   "language": "python",
   "name": "conda-env-django-py"
  },
  "language_info": {
   "codemirror_mode": {
    "name": "ipython",
    "version": 3
   },
   "file_extension": ".py",
   "mimetype": "text/x-python",
   "name": "python",
   "nbconvert_exporter": "python",
   "pygments_lexer": "ipython3",
   "version": "3.5.2"
  }
 },
 "nbformat": 4,
 "nbformat_minor": 1
}
