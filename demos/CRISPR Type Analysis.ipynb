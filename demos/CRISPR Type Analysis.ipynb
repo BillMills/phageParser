{
 "cells": [
  {
   "cell_type": "markdown",
   "metadata": {},
   "source": [
    "# phageParser - Analysis of CRISPR Type for Locus Sizes"
   ]
  },
  {
   "cell_type": "markdown",
   "metadata": {},
   "source": [
    "C.K. Yildirim (cemyildirim@fastmail.com)\n",
    "\n",
    "The latest version of this [IPython notebook](http://ipython.org/notebook.html) demo is available at [http://github.com/phageParser/phageParser](https://github.com/phageParser/phageParser/tree/django-dev/demos)"
   ]
  },
  {
   "cell_type": "markdown",
   "metadata": {},
   "source": [
    "## Introduction"
   ]
  },
  {
   "cell_type": "markdown",
   "metadata": {},
   "source": [
    "This demo uses the REST API of phageParser running locally to plot the distribution of spacer lengths.\n",
    "In this case, the API is consumed using the requests library and the json responses are parsed for gathering\n",
    "basepair length information of spacers."
   ]
  },
  {
   "cell_type": "code",
   "execution_count": 137,
   "metadata": {
    "collapsed": true
   },
   "outputs": [],
   "source": [
    "import requests\n",
    "import json\n",
    "import numpy as np\n",
    "import random\n",
    "import matplotlib.pyplot as plt\n",
    "from matplotlib import mlab\n",
    "import seaborn as sns\n",
    "import pandas as pd\n",
    "from scipy import stats\n",
    "sns.set_palette(\"husl\")"
   ]
  },
  {
   "cell_type": "code",
   "execution_count": 138,
   "metadata": {
    "collapsed": true
   },
   "outputs": [],
   "source": [
    "#Url of the phageParser API\n",
    "apiurl = 'http://127.0.0.1:8000'\n",
    "#Get the initial page for listing of accessible objects and get url for organisms and casproteins\n",
    "url_json=requests.get(apiurl).json()\n",
    "organisms_url = url_json['organisms']\n",
    "cas_proteins_url = url_json['casproteins']"
   ]
  },
  {
   "cell_type": "code",
   "execution_count": 139,
   "metadata": {
    "collapsed": true
   },
   "outputs": [],
   "source": [
    "#Iterate through each page and merge the json response into a dictionary for cas proteins\n",
    "cas_protein_dict = {}\n",
    "r=requests.get(cas_proteins_url)\n",
    "last_page = r.json()['meta']['total_pages']\n",
    "for page in range(1,last_page+1):\n",
    "    url = cas_proteins_url+'?page={}'.format(page)\n",
    "    payload = requests.get(url).json()\n",
    "    cas_protein_objs = payload['cas_proteins']\n",
    "    for cas_protein_obj in cas_protein_objs:\n",
    "        cas_protein_dict[cas_protein_obj['id']] = cas_protein_obj"
   ]
  },
  {
   "cell_type": "code",
   "execution_count": 140,
   "metadata": {
    "collapsed": true
   },
   "outputs": [],
   "source": [
    "#Iterate through each page and merge the json response into a dictionary for organisms\n",
    "organism_dict = {}\n",
    "r=requests.get(organisms_url)\n",
    "last_page = r.json()['meta']['total_pages']\n",
    "for page in range(1,last_page+1):\n",
    "    url = organisms_url+'?page={}&include[]=cas_proteins&include[]=loci.spacers'.format(page)\n",
    "    payload = requests.get(url).json()\n",
    "    organism_objs = payload['organisms']\n",
    "    for organism_obj in organism_objs:\n",
    "        organism_dict[organism_obj['id']] = organism_obj"
   ]
  },
  {
   "cell_type": "code",
   "execution_count": 141,
   "metadata": {
    "collapsed": true
   },
   "outputs": [],
   "source": [
    "#Make a set of specific cas proteins by grouping them from gene field\n",
    "cas3_proteins = {k: v for k, v in cas_protein_dict.items() if 'cas3' in v['gene']}\n",
    "cas9_proteins = {k: v for k, v in cas_protein_dict.items() if 'cas9' in v['gene']}\n",
    "cas10_proteins = {k: v for k, v in cas_protein_dict.items() if 'cas10' in v['gene']}"
   ]
  },
  {
   "cell_type": "code",
   "execution_count": 148,
   "metadata": {
    "collapsed": true
   },
   "outputs": [],
   "source": [
    "#Estimate the CRISPR type in organisms by checking the identified cas proteins in each organism\n",
    "#Also find the locus size by checking if all of the loci in an organism consist of a single spacer\n",
    "for k,v in organism_dict.items():\n",
    "    v['CRISPR_type'] = []\n",
    "    v['single_spacer'] = False\n",
    "    if v['cas_proteins']:\n",
    "        org_proteins = set(v['cas_proteins'])\n",
    "        if not org_proteins.isdisjoint(cas3_proteins): #has cas3 proteins\n",
    "            v['CRISPR_type'] += ['Type I']\n",
    "        if not org_proteins.isdisjoint(cas9_proteins): #has cas9 proteins\n",
    "            v['CRISPR_type'] += ['Type II']\n",
    "        if not org_proteins.isdisjoint(cas10_proteins): #has cas10 proteins\n",
    "            v['CRISPR_type'] += ['Type III']\n",
    "    if v['loci']:\n",
    "        if all([len(loc['spacers']) < 2 for loc in v['loci']]):\n",
    "            v['single_spacer'] = True"
   ]
  },
  {
   "cell_type": "code",
   "execution_count": 151,
   "metadata": {
    "collapsed": false
   },
   "outputs": [
    {
     "name": "stdout",
     "output_type": "stream",
     "text": [
      "Active CRISPR system percentage for organisms with single spacer is 97.46%\n",
      "Active CRISPR system percentage for organisms with multiple spacer is 97.29%\n"
     ]
    }
   ],
   "source": [
    "#Calculate the availability of an active CRISPR system for each organism, group by single or multiple spacers.\n",
    "iscrispr_single_spacer = [bool(v['CRISPR_type']) for k,v in organism_dict.items() if v['single_spacer']]\n",
    "iscrispr_multi_spacer = [bool(v['CRISPR_type']) for k,v in organism_dict.items() if not v['single_spacer']]\n",
    "iscrispr_single_spacer_prc = sum(iscrispr_single_spacer)/len(iscrispr_single_spacer)*100\n",
    "iscrispr_multi_spacer_prc = sum(iscrispr_multi_spacer)/len(iscrispr_multi_spacer)*100\n",
    "print(\"Active CRISPR system percentage for organisms with single spacer is {:.2f}%\".format(iscrispr_single_spacer_prc))\n",
    "print(\"Active CRISPR system percentage for organisms with multiple spacer is {:.2f}%\".format(iscrispr_multi_spacer_prc))"
   ]
  },
  {
   "cell_type": "code",
   "execution_count": 136,
   "metadata": {
    "collapsed": false
   },
   "outputs": [
    {
     "data": {
      "image/png": "[encoded data removed]",
      "text/plain": [
       "<matplotlib.figure.Figure at 0x11a5752b0>"
      ]
     },
     "metadata": {},
     "output_type": "display_data"
    },
    {
     "data": {
      "text/plain": [
       "2.604001176816711"
      ]
     },
     "execution_count": 136,
     "metadata": {},
     "output_type": "execute_result"
    }
   ],
   "source": [
    "num_loc = [len(v['loci']) for k,v in organism_dict.items() if v['loci']]\n",
    "sns.distplot(num_loc, bins=range(0,30,1))\n",
    "plt.show()\n",
    "sum(num_loc)/len(num_loc)\n"
   ]
  },
  {
   "cell_type": "code",
   "execution_count": 159,
   "metadata": {
    "collapsed": false
   },
   "outputs": [
    {
     "data": {
      "text/plain": [
       "{'CRISPR_type': ['Type I'],\n",
       " 'accession': 'NZ_CP009460',\n",
       " 'cas_proteins': [154,\n",
       "  122,\n",
       "  76,\n",
       "  112,\n",
       "  78,\n",
       "  379,\n",
       "  2,\n",
       "  311,\n",
       "  80,\n",
       "  41,\n",
       "  378,\n",
       "  301,\n",
       "  266,\n",
       "  1,\n",
       "  371,\n",
       "  48,\n",
       "  159,\n",
       "  374,\n",
       "  285,\n",
       "  64,\n",
       "  11,\n",
       "  171,\n",
       "  35,\n",
       "  87,\n",
       "  235,\n",
       "  377,\n",
       "  366,\n",
       "  367,\n",
       "  225,\n",
       "  4,\n",
       "  3,\n",
       "  249,\n",
       "  316,\n",
       "  91,\n",
       "  233,\n",
       "  261,\n",
       "  94,\n",
       "  312,\n",
       "  77,\n",
       "  372,\n",
       "  368,\n",
       "  291,\n",
       "  382,\n",
       "  20,\n",
       "  177],\n",
       " 'id': 19,\n",
       " 'loci': [{'genomic_end': 3737850,\n",
       "   'genomic_start': 3736982,\n",
       "   'id': 6665,\n",
       "   'organism': 19,\n",
       "   'spacers': [{'id': 96652,\n",
       "     'length': 32,\n",
       "     'sequence': 'ATACGCCGCTTTCGTGCTGAACACCTCCACGT'},\n",
       "    {'id': 96650,\n",
       "     'length': 32,\n",
       "     'sequence': 'TGGTGAACCCACTCATAACAGGTGCTCATTGG'},\n",
       "    {'id': 96648,\n",
       "     'length': 32,\n",
       "     'sequence': 'TATACAAGAAGAATTCAATGCAAGGGGATGCA'},\n",
       "    {'id': 96645,\n",
       "     'length': 32,\n",
       "     'sequence': 'TATTGCCGCCGGGGTCGTCTGCGCTTGAGCGT'},\n",
       "    {'id': 96646,\n",
       "     'length': 32,\n",
       "     'sequence': 'GTTTACCACCGCCCGTGCCAAAGGCCGCATCC'},\n",
       "    {'id': 96647,\n",
       "     'length': 32,\n",
       "     'sequence': 'TCATGCACGACCAGATTGAAAAATTTAGAATA'},\n",
       "    {'id': 96654,\n",
       "     'length': 32,\n",
       "     'sequence': 'TGTCGCTGCAATAGCCCCAGCACTACCACCGC'},\n",
       "    {'id': 96641,\n",
       "     'length': 32,\n",
       "     'sequence': 'AATGACCTATACCGCCTTGAGTTTTCCCTAGC'},\n",
       "    {'id': 96649,\n",
       "     'length': 32,\n",
       "     'sequence': 'GTCTTCGCCGTGCTCATCCAACAGCACTTTGA'},\n",
       "    {'id': 96644,\n",
       "     'length': 32,\n",
       "     'sequence': 'ACTCACGTTCAAACGCATCACGCAGGCGCTGC'},\n",
       "    {'id': 96643,\n",
       "     'length': 33,\n",
       "     'sequence': 'AACACCACCTCGATAAACGACAGGCGATGTTCT'},\n",
       "    {'id': 96642,\n",
       "     'length': 32,\n",
       "     'sequence': 'AGGCTAGCAAGAGGCGCCTGATGCCCACGGTC'},\n",
       "    {'id': 96651,\n",
       "     'length': 32,\n",
       "     'sequence': 'AATTCGGATTCTGCTGGGGACGCCATCATCAG'},\n",
       "    {'id': 96653,\n",
       "     'length': 32,\n",
       "     'sequence': 'GACTGACCGCGACACTGACCCCGCTGCGTGGC'}]},\n",
       "  {'genomic_end': 3728067,\n",
       "   'genomic_start': 3726600,\n",
       "   'id': 3693,\n",
       "   'organism': 19,\n",
       "   'spacers': [{'id': 55192,\n",
       "     'length': 32,\n",
       "     'sequence': 'TTATTTACCGAGGCAAGTTTACTGGCCTCACT'},\n",
       "    {'id': 55203,\n",
       "     'length': 32,\n",
       "     'sequence': 'GGCAGACGCGAACCAAGTGTCGATGAAATTGC'},\n",
       "    {'id': 55199,\n",
       "     'length': 32,\n",
       "     'sequence': 'CCTGCGCGACATGGCAAAGGCGGTATCTGCCT'},\n",
       "    {'id': 55200,\n",
       "     'length': 32,\n",
       "     'sequence': 'CCATACAGCAATGACGAGATCGCCCGCCGCTG'},\n",
       "    {'id': 55205,\n",
       "     'length': 32,\n",
       "     'sequence': 'TCAACCGTATCCCATTCTTTTTCTGGCGGAAC'},\n",
       "    {'id': 55195,\n",
       "     'length': 32,\n",
       "     'sequence': 'CTGCCTCTGTTGCCCCGGCAGTGGCAGATGGT'},\n",
       "    {'id': 55198,\n",
       "     'length': 32,\n",
       "     'sequence': 'ACGCATCATTGCGTGAATTTAATGGAAATGGA'},\n",
       "    {'id': 55194,\n",
       "     'length': 32,\n",
       "     'sequence': 'ATGCAAATGTGGTACAAAACCGGGTGGCGCCA'},\n",
       "    {'id': 55213,\n",
       "     'length': 32,\n",
       "     'sequence': 'GGATGGAAGTGATCCGCATGGCGCATCTGGAT'},\n",
       "    {'id': 55196,\n",
       "     'length': 32,\n",
       "     'sequence': 'GCGATGTCGAATTTTCCATTCTCTACGCCTAC'},\n",
       "    {'id': 55193,\n",
       "     'length': 32,\n",
       "     'sequence': 'GGCGTATCAGGATTTTTGCGCCGACTGGCACC'},\n",
       "    {'id': 55197,\n",
       "     'length': 32,\n",
       "     'sequence': 'GTGCCGGCTCGGCGCCGGGGACGTCTACCGGC'},\n",
       "    {'id': 55207,\n",
       "     'length': 32,\n",
       "     'sequence': 'GAGAATGAATGGTATCCGGGCAAAGGTGACAC'},\n",
       "    {'id': 55214,\n",
       "     'length': 32,\n",
       "     'sequence': 'TAATCAGCCGTTTAACCCCGCCTGGGCCATCC'},\n",
       "    {'id': 55201,\n",
       "     'length': 32,\n",
       "     'sequence': 'CAATAATGAGCACAGCTCTCGCAACATTAGCT'},\n",
       "    {'id': 55208,\n",
       "     'length': 32,\n",
       "     'sequence': 'CAGCTTCTCCAACTTTGCTTCCAGCTCATCAC'},\n",
       "    {'id': 55211,\n",
       "     'length': 32,\n",
       "     'sequence': 'AACGGGCAGGGTGCAAAACGACGTGCGCAGGA'},\n",
       "    {'id': 55202,\n",
       "     'length': 32,\n",
       "     'sequence': 'GCCCGGCCATTGACTTTCAGCGTGTCGGCACT'},\n",
       "    {'id': 55210,\n",
       "     'length': 32,\n",
       "     'sequence': 'CCAGCAAGCCAGCCTTACACGGTTCCGGATGA'},\n",
       "    {'id': 55212,\n",
       "     'length': 32,\n",
       "     'sequence': 'GCATTCACTGCCAGCGCACGGCCAACAAGCTC'},\n",
       "    {'id': 55204,\n",
       "     'length': 32,\n",
       "     'sequence': 'TCTGAGCCGCTGTATGTGCCGCATCGGCACCG'},\n",
       "    {'id': 55191,\n",
       "     'length': 32,\n",
       "     'sequence': 'CTGGCGGGGCTGGCGACTCGACCACAACCGCT'},\n",
       "    {'id': 55206,\n",
       "     'length': 32,\n",
       "     'sequence': 'AAGAAAAAGACCACACTGACCGTGTATCACCC'},\n",
       "    {'id': 55209,\n",
       "     'length': 32,\n",
       "     'sequence': 'GGTGAATTTTTCTCCGCAGATTTTGCACTTGC'}]},\n",
       "  {'genomic_end': 2354287,\n",
       "   'genomic_start': 2353466,\n",
       "   'id': 509,\n",
       "   'organism': 19,\n",
       "   'spacers': [{'id': 8007,\n",
       "     'length': 32,\n",
       "     'sequence': 'GATGTCATACCAGTCGGAGTCCATGTAGCAGA'},\n",
       "    {'id': 7996, 'length': 32, 'sequence': 'ACTGAGCGCCGGTACTGGTTGGTTTCCTCGTC'},\n",
       "    {'id': 8002, 'length': 32, 'sequence': 'CGGTCCGAAACCTTGTATAGTTTCTCCTCCGG'},\n",
       "    {'id': 7995, 'length': 32, 'sequence': 'GTGGCTAATCTGGATGCATCCGTGACAGCGTC'},\n",
       "    {'id': 8003, 'length': 32, 'sequence': 'TGGCGCAAAAACTGGACAACGGACGTTTTGCA'},\n",
       "    {'id': 8005, 'length': 32, 'sequence': 'ATGAAAAGTATGCTCAACCATCCAAGGCGTTG'},\n",
       "    {'id': 8001, 'length': 32, 'sequence': 'GCATGGGATGCCGACACTCTGGCGCAGGACAT'},\n",
       "    {'id': 8006, 'length': 32, 'sequence': 'CGGTTCGTTCCAGTGCGGTCGTCATAGACCTC'},\n",
       "    {'id': 7998, 'length': 32, 'sequence': 'CCCTTTCTCGACCGTGTGCCAGCGAGCATTCC'},\n",
       "    {'id': 7999, 'length': 32, 'sequence': 'GAACAATACTCCCCGTAACCGGGGTGCAAGCC'},\n",
       "    {'id': 8000, 'length': 32, 'sequence': 'GTCCCCGAATATCCCAGCGTCGATATAAGCTG'},\n",
       "    {'id': 7997, 'length': 32, 'sequence': 'GGATAGCGGCCATCGTTGCGATCTGCGTTGTG'},\n",
       "    {'id': 8004,\n",
       "     'length': 32,\n",
       "     'sequence': 'ACAGGTCACGAAATTGCTCAGGAGTCGGAAGA'}]},\n",
       "  {'genomic_end': 3743129,\n",
       "   'genomic_start': 3742682,\n",
       "   'id': 6067,\n",
       "   'organism': 19,\n",
       "   'spacers': [{'id': 89485,\n",
       "     'length': 32,\n",
       "     'sequence': 'GCAACGGCGGCTGGTTCTCTGGTCTACATGAC'},\n",
       "    {'id': 89481,\n",
       "     'length': 32,\n",
       "     'sequence': 'CTGTCAATAACTGTACGCGATGGGCATCAGGA'},\n",
       "    {'id': 89484,\n",
       "     'length': 32,\n",
       "     'sequence': 'ACCTCTTTTGCTGCCTGCTCCATTAATTGAGC'},\n",
       "    {'id': 89479,\n",
       "     'length': 32,\n",
       "     'sequence': 'TCTGCGGGAAAACTTGTGGTATTTATCGACCG'},\n",
       "    {'id': 89483,\n",
       "     'length': 32,\n",
       "     'sequence': 'GAGTTATTTGGTTGTGTGGGCGATTTCATCCC'},\n",
       "    {'id': 89480,\n",
       "     'length': 32,\n",
       "     'sequence': 'TCAGTCATGGCGATGTTCTGCGACCGCATATA'},\n",
       "    {'id': 89482,\n",
       "     'length': 32,\n",
       "     'sequence': 'AACCGCATAACACTGGCTAACCGCCATAAGCC'}]}],\n",
       " 'name': 'Dickeya solani',\n",
       " 'single_locus': False,\n",
       " 'single_spacer': False}"
      ]
     },
     "execution_count": 159,
     "metadata": {},
     "output_type": "execute_result"
    }
   ],
   "source": [
    "organism_dict[19]"
   ]
  },
  {
   "cell_type": "code",
   "execution_count": 153,
   "metadata": {
    "collapsed": false
   },
   "outputs": [
    {
     "name": "stdout",
     "output_type": "stream",
     "text": [
      "Calculated mean basepair length for spacers is 35.10+/-3.93\n"
     ]
    }
   ],
   "source": [
    "#Get the global mean and variance\n",
    "spacerbplengths = np.array([spacer['length'] for organism in organism_dict.values() for locus in organism['loci'] for spacer in locus['spacers']]).flatten()\n",
    "mu, sigma = spacerbplengths.mean(), spacerbplengths.std()\n",
    "print(\"Calculated mean basepair length for spacers is {:.2f}+/-{:.2f}\".format(mu,sigma))"
   ]
  },
  {
   "cell_type": "code",
   "execution_count": 155,
   "metadata": {
    "collapsed": false,
    "scrolled": false
   },
   "outputs": [
    {
     "data": {
      "image/png": "[encoded data removed]",
      "text/plain": [
       "<matplotlib.figure.Figure at 0x11d4f1748>"
      ]
     },
     "metadata": {},
     "output_type": "display_data"
    }
   ],
   "source": [
    "#Pick a random organism to plot the histogram with global distribution overlay\n",
    "# org_id = random.choice(list(org_spacer.keys()))\n",
    "org_id=189\n",
    "locusspacerlens = [[spacer['length'] for spacer in locus['spacers']] for locus in organism_dict[org_id]['loci']]\n",
    "fig, ax = plt.subplots(figsize=(8,4),dpi=100)\n",
    "bins=range(30,45,1)\n",
    "#Plot histogram of spacer length frequency\n",
    "for loc in locusspacerlens:\n",
    "    sns.distplot(loc, ax=ax, kde=False, norm_hist=True, bins=bins)\n",
    "sns.kdeplot(spacerbplengths, ax=ax)\n",
    "plt.xlim([30,45])\n",
    "\n",
    "#format the figure and label\n",
    "ax.set_title(\"Histogram of spacer basepair lengths for organism with id {}\".format(org_id))\n",
    "ax.set_xlabel(\"Spacer length (bps)\")\n",
    "ax.set_ylabel(\"Occurence of spacers\")\n",
    "plt.show()"
   ]
  },
  {
   "cell_type": "code",
   "execution_count": null,
   "metadata": {
    "collapsed": true
   },
   "outputs": [],
   "source": []
  }
 ],
 "metadata": {
  "anaconda-cloud": {},
  "kernelspec": {
   "display_name": "Python [default]",
   "language": "python",
   "name": "python3"
  },
  "language_info": {
   "codemirror_mode": {
    "name": "ipython",
    "version": 3
   },
   "file_extension": ".py",
   "mimetype": "text/x-python",
   "name": "python",
   "nbconvert_exporter": "python",
   "pygments_lexer": "ipython3",
   "version": "3.5.2"
  }
 },
 "nbformat": 4,
 "nbformat_minor": 2
}
